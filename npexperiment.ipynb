{
 "cells": [
  {
   "cell_type": "markdown",
   "id": "a012ff7a",
   "metadata": {},
   "source": [
    "## NumPy Library"
   ]
  },
  {
   "cell_type": "code",
   "execution_count": 1,
   "id": "b467f203",
   "metadata": {},
   "outputs": [],
   "source": [
    "import numpy as np"
   ]
  },
  {
   "cell_type": "markdown",
   "id": "271d654f",
   "metadata": {},
   "source": [
    "## Types of Arrays"
   ]
  },
  {
   "cell_type": "code",
   "execution_count": 22,
   "id": "998cfcaa",
   "metadata": {},
   "outputs": [],
   "source": [
    "a1 = np.random.random(5) # Array of 5 random numbers within range [0, 1).\n",
    "a2 = np.random.randn(5) # Array of 7 random numbers from a normal/Gaussian distribution.\n",
    "a3 = np.zeros(2) # Array of 2 zeros.\n",
    "a4 = np.ones(8) # Array of 8 ones.\n",
    "a5 = np.linspace(0, 10, 20) # Array of 20 elements from [0, 10].\n",
    "a6 = np.arange(0, 10, 0.2) # Array of elements from [0,10) with a step size of 0.2."
   ]
  },
  {
   "cell_type": "markdown",
   "id": "c0773618",
   "metadata": {},
   "source": [
    "## Array Operations"
   ]
  },
  {
   "cell_type": "code",
   "execution_count": null,
   "id": "7731f403",
   "metadata": {},
   "outputs": [
    {
     "data": {
      "text/plain": [
       "array([2., 2., 2., 2., 2., 2., 2., 2.])"
      ]
     },
     "execution_count": 19,
     "metadata": {},
     "output_type": "execute_result"
    }
   ],
   "source": [
    "2*a4 # Can do the arithmetic operations (multiplication, division, etc.)."
   ]
  },
  {
   "cell_type": "code",
   "execution_count": 24,
   "id": "7e1a50c8",
   "metadata": {},
   "outputs": [
    {
     "data": {
      "text/plain": [
       "array([2.77559156, 1.62671062, 3.06477649, 1.39262623, 5.12320819])"
      ]
     },
     "execution_count": 24,
     "metadata": {},
     "output_type": "execute_result"
    }
   ],
   "source": [
    "1/a1"
   ]
  },
  {
   "cell_type": "code",
   "execution_count": null,
   "id": "9b31a0d0",
   "metadata": {},
   "outputs": [],
   "source": []
  }
 ],
 "metadata": {
  "kernelspec": {
   "display_name": "Python 3",
   "language": "python",
   "name": "python3"
  },
  "language_info": {
   "codemirror_mode": {
    "name": "ipython",
    "version": 3
   },
   "file_extension": ".py",
   "mimetype": "text/x-python",
   "name": "python",
   "nbconvert_exporter": "python",
   "pygments_lexer": "ipython3",
   "version": "3.13.3"
  }
 },
 "nbformat": 4,
 "nbformat_minor": 5
}
