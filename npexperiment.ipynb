{
 "cells": [
  {
   "cell_type": "markdown",
   "id": "a012ff7a",
   "metadata": {},
   "source": [
    "## NumPy Library"
   ]
  },
  {
   "cell_type": "code",
   "execution_count": 1,
   "id": "b467f203",
   "metadata": {},
   "outputs": [],
   "source": [
    "import numpy as np\n",
    "import matplotlib.pyplot as plt"
   ]
  },
  {
   "cell_type": "markdown",
   "id": "271d654f",
   "metadata": {},
   "source": [
    "## Types of Arrays"
   ]
  },
  {
   "cell_type": "code",
   "execution_count": 11,
   "id": "998cfcaa",
   "metadata": {},
   "outputs": [],
   "source": [
    "a1 = np.random.random(5) # Array of 5 random numbers within range [0, 1).\n",
    "a2 = np.random.randn(5) # Array of 7 random numbers from a normal/Gaussian distribution.\n",
    "a3 = np.zeros(2) # Array of 2 zeros.\n",
    "a4 = np.ones(8) # Array of 8 ones.\n",
    "a5 = np.linspace(0, 10, 20) # Array of 20 elements from [0, 10].\n",
    "a6 = np.arange(0, 10, 0.2) # Array of elements from [0,10) with a step size of 0.2.\n",
    "a7 = np.array([1,5,9,4,2])\n",
    "a8 = np.random.randint(4)"
   ]
  },
  {
   "cell_type": "markdown",
   "id": "c0773618",
   "metadata": {},
   "source": [
    "## Array Operations"
   ]
  },
  {
   "cell_type": "code",
   "execution_count": null,
   "id": "7731f403",
   "metadata": {},
   "outputs": [
    {
     "data": {
      "text/plain": [
       "array([2., 2., 2., 2., 2., 2., 2., 2.])"
      ]
     },
     "execution_count": 19,
     "metadata": {},
     "output_type": "execute_result"
    }
   ],
   "source": [
    "2*a4 # Can do the arithmetic operations (multiplication, division, etc.)."
   ]
  },
  {
   "cell_type": "code",
   "execution_count": 24,
   "id": "7e1a50c8",
   "metadata": {},
   "outputs": [
    {
     "data": {
      "text/plain": [
       "array([2.77559156, 1.62671062, 3.06477649, 1.39262623, 5.12320819])"
      ]
     },
     "execution_count": 24,
     "metadata": {},
     "output_type": "execute_result"
    }
   ],
   "source": [
    "1/a1"
   ]
  },
  {
   "cell_type": "code",
   "execution_count": 12,
   "id": "9b31a0d0",
   "metadata": {},
   "outputs": [
    {
     "data": {
      "text/plain": [
       "array([False,  True,  True, False, False])"
      ]
     },
     "execution_count": 12,
     "metadata": {},
     "output_type": "execute_result"
    }
   ],
   "source": [
    "a7 >= 5"
   ]
  },
  {
   "cell_type": "code",
   "execution_count": 13,
   "id": "6b3fbb50",
   "metadata": {},
   "outputs": [
    {
     "data": {
      "image/png": "[encoded data removed]",
      "text/plain": [
       "<Figure size 640x480 with 1 Axes>"
      ]
     },
     "metadata": {},
     "output_type": "display_data"
    }
   ],
   "source": [
    "x = np.linspace(-3, 3, 100)\n",
    "y = x**3\n",
    "plt.plot(x, y)\n",
    "plt.show()"
   ]
  },
  {
   "cell_type": "markdown",
   "id": "c125e463",
   "metadata": {},
   "source": [
    "## Array Indexing/Slicing"
   ]
  },
  {
   "cell_type": "code",
   "execution_count": 14,
   "id": "3ba926e6",
   "metadata": {},
   "outputs": [
    {
     "data": {
      "text/plain": [
       "np.int64(9)"
      ]
     },
     "execution_count": 14,
     "metadata": {},
     "output_type": "execute_result"
    }
   ],
   "source": [
    "a7[2]"
   ]
  },
  {
   "cell_type": "code",
   "execution_count": 17,
   "id": "f610cce7",
   "metadata": {},
   "outputs": [
    {
     "data": {
      "text/plain": [
       "array([1, 9, 2])"
      ]
     },
     "execution_count": 17,
     "metadata": {},
     "output_type": "execute_result"
    }
   ],
   "source": [
    "a7[::2]"
   ]
  },
  {
   "cell_type": "code",
   "execution_count": 18,
   "id": "7ea3eaf7",
   "metadata": {},
   "outputs": [
    {
     "data": {
      "text/plain": [
       "array([9])"
      ]
     },
     "execution_count": 18,
     "metadata": {},
     "output_type": "execute_result"
    }
   ],
   "source": [
    "a7[a7>5]"
   ]
  },
  {
   "cell_type": "code",
   "execution_count": 19,
   "id": "a4f11871",
   "metadata": {},
   "outputs": [
    {
     "data": {
      "text/plain": [
       "array([9, 4, 2])"
      ]
     },
     "execution_count": 19,
     "metadata": {},
     "output_type": "execute_result"
    }
   ],
   "source": [
    "a7[2:5]"
   ]
  },
  {
   "cell_type": "code",
   "execution_count": 24,
   "id": "2e508afc",
   "metadata": {},
   "outputs": [
    {
     "data": {
      "text/plain": [
       "array(['California', 'Florida'], dtype='<U10')"
      ]
     },
     "execution_count": 24,
     "metadata": {},
     "output_type": "execute_result"
    }
   ],
   "source": [
    "states = np.array(['California', 'Texas', 'Florida', 'New York'])\n",
    "first_letter = np.vectorize(lambda s: s[-1])(states) == 'a' # vectorize() acts like a for loop, applying the lambda function to the states array.\n",
    "states[first_letter]"
   ]
  },
  {
   "cell_type": "code",
   "execution_count": 27,
   "id": "8d66e60b",
   "metadata": {},
   "outputs": [
    {
     "data": {
      "text/plain": [
       "array([4, 2])"
      ]
     },
     "execution_count": 27,
     "metadata": {},
     "output_type": "execute_result"
    }
   ],
   "source": [
    "a7[a7 % 2 == 0]"
   ]
  },
  {
   "cell_type": "markdown",
   "id": "ff6d50fe",
   "metadata": {},
   "source": [
    "## Calculus & Statistics"
   ]
  },
  {
   "cell_type": "code",
   "execution_count": 36,
   "id": "b271124c",
   "metadata": {},
   "outputs": [
    {
     "data": {
      "text/plain": [
       "array([11.79943315, 11.26441824, 11.71600478, 10.61588935, 11.53870919])"
      ]
     },
     "execution_count": 36,
     "metadata": {},
     "output_type": "execute_result"
    }
   ],
   "source": [
    "seconda1 = 2*a1 + 10 # 2 expands standard deviation while 10 shifts the mean.\n",
    "seconda1"
   ]
  },
  {
   "cell_type": "markdown",
   "id": "41402870",
   "metadata": {},
   "source": [
    "Mean, percentile, standard deviation"
   ]
  },
  {
   "cell_type": "code",
   "execution_count": 31,
   "id": "427852eb",
   "metadata": {},
   "outputs": [
    {
     "data": {
      "text/plain": [
       "np.float64(11.386890943110544)"
      ]
     },
     "execution_count": 31,
     "metadata": {},
     "output_type": "execute_result"
    }
   ],
   "source": [
    "np.mean(seconda1)"
   ]
  },
  {
   "cell_type": "code",
   "execution_count": 32,
   "id": "ebf501e4",
   "metadata": {},
   "outputs": [
    {
     "data": {
      "text/plain": [
       "np.float64(0.4268486375285263)"
      ]
     },
     "execution_count": 32,
     "metadata": {},
     "output_type": "execute_result"
    }
   ],
   "source": [
    "np.std(seconda1)"
   ]
  },
  {
   "cell_type": "code",
   "execution_count": 39,
   "id": "563683a3",
   "metadata": {},
   "outputs": [
    {
     "data": {
      "text/plain": [
       "np.float64(11.766061803863607)"
      ]
     },
     "execution_count": 39,
     "metadata": {},
     "output_type": "execute_result"
    }
   ],
   "source": [
    "np.percentile(seconda1, 90) # Integer represents a percentage."
   ]
  },
  {
   "cell_type": "markdown",
   "id": "9000ed98",
   "metadata": {},
   "source": [
    "Derivative and Antiderivative"
   ]
  },
  {
   "cell_type": "code",
   "execution_count": 58,
   "id": "f8073433",
   "metadata": {},
   "outputs": [
    {
     "data": {
      "text/plain": [
       "<matplotlib.legend.Legend at 0x2208439c550>"
      ]
     },
     "execution_count": 58,
     "metadata": {},
     "output_type": "execute_result"
    },
    {
     "data": {
      "image/png": "[encoded data removed]",
      "text/plain": [
       "<Figure size 640x480 with 1 Axes>"
      ]
     },
     "metadata": {},
     "output_type": "display_data"
    }
   ],
   "source": [
    "x = np.linspace(0, 5, 100)\n",
    "y = x**2\n",
    "\n",
    "integral = np.cumsum(y) * (x[1] - x[0])\n",
    "dydx = np.gradient(y, x)\n",
    "\n",
    "plt.plot(x, y, color = 'blue', label = '$f(x)$')\n",
    "plt.plot(x, dydx, color = 'orange', label = \"$f'(x)$\")\n",
    "plt.plot(x, integral, color = 'red', label = '$F(x)$')\n",
    "plt.legend()"
   ]
  },
  {
   "cell_type": "markdown",
   "id": "9acd8c76",
   "metadata": {},
   "source": [
    "## Question 1\n",
    "\n",
    "Let $y = e^{-x/10} \\sin(x)$. Consider 10000 intervals in the range $[0, 10]$\n",
    "\n",
    "1. Plot the function y vs x from $[0, 10]$\n",
    "2. Compute mean & standard deviation for y-values in $[4, 7]$\n",
    "3. For x in the range $[4, 7]$, find the value $y_m$ such that 80% of the values are less than it.\n",
    "4. Plot dydx vs x\n",
    "5. Find the locations where dydx = 0"
   ]
  },
  {
   "cell_type": "code",
   "execution_count": null,
   "id": "452ccf91",
   "metadata": {},
   "outputs": [
    {
     "data": {
      "text/plain": [
       "[<matplotlib.lines.Line2D at 0x22084c07250>]"
      ]
     },
     "execution_count": 68,
     "metadata": {},
     "output_type": "execute_result"
    },
    {
     "data": {
      "image/png": "[encoded data removed]",
      "text/plain": [
       "<Figure size 640x480 with 1 Axes>"
      ]
     },
     "metadata": {},
     "output_type": "display_data"
    }
   ],
   "source": [
    "# 1.\n",
    "x = np.linspace(0, 10, 10001)\n",
    "y = np.exp(-x/10) * np.sin(x)\n",
    "plt.plot(x, y)"
   ]
  },
  {
   "cell_type": "code",
   "execution_count": 72,
   "id": "a5e7b8a7",
   "metadata": {},
   "outputs": [
    {
     "name": "stdout",
     "output_type": "stream",
     "text": [
      "-0.2956023068963138 0.31448753875085117\n"
     ]
    }
   ],
   "source": [
    "# 2.\n",
    "m = np.mean(y[(x >= 4) & (x <= 7)])\n",
    "s = np.std(y[(x >= 4) & (x <= 7)])\n",
    "print(m, s)"
   ]
  },
  {
   "cell_type": "code",
   "execution_count": 73,
   "id": "c2b683a4",
   "metadata": {},
   "outputs": [
    {
     "data": {
      "text/plain": [
       "np.float64(0.06145551274590662)"
      ]
     },
     "execution_count": 73,
     "metadata": {},
     "output_type": "execute_result"
    }
   ],
   "source": [
    "# 3.\n",
    "y_m = np.percentile(y[(x >= 4) & (x <= 7)], 80)\n",
    "y_m"
   ]
  },
  {
   "cell_type": "code",
   "execution_count": 77,
   "id": "4c7a0d47",
   "metadata": {},
   "outputs": [
    {
     "data": {
      "text/plain": [
       "[<matplotlib.lines.Line2D at 0x22084d65e50>]"
      ]
     },
     "execution_count": 77,
     "metadata": {},
     "output_type": "execute_result"
    },
    {
     "data": {
      "image/png": "[encoded data removed]",
      "text/plain": [
       "<Figure size 640x480 with 1 Axes>"
      ]
     },
     "metadata": {},
     "output_type": "display_data"
    }
   ],
   "source": [
    "# 4.\n",
    "dydx = np.gradient(y, x)\n",
    "plt.plot(x, dydx)"
   ]
  },
  {
   "cell_type": "code",
   "execution_count": 91,
   "id": "7df20810",
   "metadata": {},
   "outputs": [
    {
     "data": {
      "text/plain": [
       "array([1.472, 4.613, 7.755])"
      ]
     },
     "execution_count": 91,
     "metadata": {},
     "output_type": "execute_result"
    }
   ],
   "source": [
    "x[1:][dydx[1:]*dydx[:-1] < 0]\n"
   ]
  },
  {
   "cell_type": "markdown",
   "id": "7b3fa575",
   "metadata": {},
   "source": [
    "## Question 2\n",
    "\n",
    "Sum every number together 0 to 10000 except for those that are divisible by 4 or 7. Do this in 2 lines of code."
   ]
  },
  {
   "cell_type": "code",
   "execution_count": 102,
   "id": "50dab4f7",
   "metadata": {},
   "outputs": [
    {
     "name": "stdout",
     "output_type": "stream",
     "text": [
      "32,147,142\n"
     ]
    }
   ],
   "source": [
    "nums = np.arange(0, 10001, 1)\n",
    "print(f\"{int(sum(nums[(nums % 4 != 0) & (nums % 7 != 0)])):,}\")"
   ]
  },
  {
   "cell_type": "markdown",
   "id": "0db93ac8",
   "metadata": {},
   "source": [
    "## Question 3\n",
    "\n",
    "Consider the flower petal $r(\\theta) = 1 + \\frac{3}{4} \\cos(5\\theta)$ for $0 \\le \\theta \\le 2\\pi$\n",
    "\n",
    "1. Make a plot of the flower (find x and y points)\n",
    "2. Compute the area.\n",
    "3. Compute the arc length."
   ]
  },
  {
   "cell_type": "code",
   "execution_count": 105,
   "id": "8c1a1830",
   "metadata": {},
   "outputs": [
    {
     "data": {
      "text/plain": [
       "[<matplotlib.lines.Line2D at 0x22085ece350>]"
      ]
     },
     "execution_count": 105,
     "metadata": {},
     "output_type": "execute_result"
    },
    {
     "data": {
      "image/png": "[encoded data removed]",
      "text/plain": [
       "<Figure size 640x480 with 1 Axes>"
      ]
     },
     "metadata": {},
     "output_type": "display_data"
    }
   ],
   "source": [
    "# 1. \n",
    "theta = np.linspace(0, 2*np.pi, 100)\n",
    "r = 1 + (3/4)*np.cos(5*theta)\n",
    "x = r * np.cos(theta)\n",
    "y = r * np.sin(theta)\n",
    "plt.plot(x, y)"
   ]
  },
  {
   "cell_type": "code",
   "execution_count": 110,
   "id": "6545b027",
   "metadata": {},
   "outputs": [
    {
     "data": {
      "text/plain": [
       "322.11043009903057"
      ]
     },
     "execution_count": 110,
     "metadata": {},
     "output_type": "execute_result"
    }
   ],
   "source": [
    "# 2. \n",
    "A = (1/2) * sum(r)**2 * (theta[1] - theta[0])\n",
    "float(A)"
   ]
  },
  {
   "cell_type": "code",
   "execution_count": 117,
   "id": "2f1259c6",
   "metadata": {},
   "outputs": [
    {
     "data": {
      "text/plain": [
       "16.861418228948512"
      ]
     },
     "execution_count": 117,
     "metadata": {},
     "output_type": "execute_result"
    }
   ],
   "source": [
    "# 3. \n",
    "l = sum(np.sqrt(r**2 + np.gradient(r, theta)**2)) * (theta[1] - theta[0])\n",
    "float(l)"
   ]
  },
  {
   "cell_type": "markdown",
   "id": "7de6becb",
   "metadata": {},
   "source": [
    "## Multidimensional Arrays"
   ]
  },
  {
   "cell_type": "code",
   "execution_count": 121,
   "id": "9b440614",
   "metadata": {},
   "outputs": [
    {
     "data": {
      "text/plain": [
       "array([[1, 2, 3],\n",
       "       [4, 5, 6],\n",
       "       [7, 8, 9]])"
      ]
     },
     "execution_count": 121,
     "metadata": {},
     "output_type": "execute_result"
    }
   ],
   "source": [
    "a1 = np.array([[1,2,3],[4,5,6],[7,8,9]]) # All array operations work the same as 1D arrays.\n",
    "a1"
   ]
  },
  {
   "cell_type": "markdown",
   "id": "9ffe0e4b",
   "metadata": {},
   "source": [
    "The ravel() method can turn any multidimensional array into a 1D array."
   ]
  },
  {
   "cell_type": "code",
   "execution_count": 120,
   "id": "3652bb30",
   "metadata": {},
   "outputs": [
    {
     "data": {
      "text/plain": [
       "array([1, 2, 3, 4, 5, 6, 7, 8, 9])"
      ]
     },
     "execution_count": 120,
     "metadata": {},
     "output_type": "execute_result"
    }
   ],
   "source": [
    "a1.ravel()"
   ]
  },
  {
   "cell_type": "markdown",
   "id": "75f06b2c",
   "metadata": {},
   "source": [
    "Element indexing is slightly more convoluted."
   ]
  },
  {
   "cell_type": "code",
   "execution_count": 126,
   "id": "c30b8b1b",
   "metadata": {},
   "outputs": [
    {
     "data": {
      "text/plain": [
       "array([2, 5, 8])"
      ]
     },
     "execution_count": 126,
     "metadata": {},
     "output_type": "execute_result"
    }
   ],
   "source": [
    "a1[:,1] # The comma is like a condition. In this case, it's an instruction to take the 2nd element of each row."
   ]
  },
  {
   "cell_type": "code",
   "execution_count": 130,
   "id": "aba65186",
   "metadata": {},
   "outputs": [
    {
     "data": {
      "text/plain": [
       "array([[4],\n",
       "       [7]])"
      ]
     },
     "execution_count": 130,
     "metadata": {},
     "output_type": "execute_result"
    }
   ],
   "source": [
    "a1[1:, :1]"
   ]
  }
 ],
 "metadata": {
  "kernelspec": {
   "display_name": "Python 3",
   "language": "python",
   "name": "python3"
  },
  "language_info": {
   "codemirror_mode": {
    "name": "ipython",
    "version": 3
   },
   "file_extension": ".py",
   "mimetype": "text/x-python",
   "name": "python",
   "nbconvert_exporter": "python",
   "pygments_lexer": "ipython3",
   "version": "3.13.3"
  }
 },
 "nbformat": 4,
 "nbformat_minor": 5
}
